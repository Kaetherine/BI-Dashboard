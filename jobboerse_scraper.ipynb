{
 "cells": [
  {
   "attachments": {},
   "cell_type": "markdown",
   "metadata": {},
   "source": [
    "# LinkedIn Webscraper"
   ]
  },
  {
   "attachments": {},
   "cell_type": "markdown",
   "metadata": {},
   "source": [
    "## Part I\n",
    "Getting Data from LinkedIn"
   ]
  },
  {
   "cell_type": "code",
   "execution_count": 6,
   "metadata": {},
   "outputs": [],
   "source": [
    "from datetime import datetime\n",
    "import json\n",
    "import pandas as pd\n",
    "import requests\n",
    "from sqlalchemy import create_engine\n",
    "from base64 import b64encode\n",
    "import time"
   ]
  },
  {
   "cell_type": "code",
   "execution_count": 7,
   "metadata": {},
   "outputs": [],
   "source": [
    "positions = [\n",
    "    'SAP-Entwickler/SAP-Berater',\n",
    "    'IT-Projektmanager',\n",
    "    'Softwareentwickler',\n",
    "    'Business Intelligence Analyst',\n",
    "    'IT-Controller',\n",
    "    'IT-Berater',\n",
    "    'Produktmanager',\n",
    "    'App-Entwickler',\n",
    "    'Anwendungsentwickler',\n",
    "    'Datenbankspezialist',\n",
    "    'ERP Manager',\n",
    "    'Data Analyst',\n",
    "    'Data Scientist',\n",
    "    'Data Engineer',\n",
    "    'Data Visualisation Engineer',\n",
    "    'Projektmanager',\n",
    "]\n",
    "\n",
    "base_url = \"https://rest.arbeitsagentur.de/\"\n",
    "jobboerse = \"jobboerse/jobsuche-service/pc/v4/jobs?angebotsart=1&was=\"\n",
    "page_nav = \"&page=1&size=25&pav=false\"\n"
   ]
  },
  {
   "cell_type": "code",
   "execution_count": 8,
   "metadata": {},
   "outputs": [
    {
     "name": "stdout",
     "output_type": "stream",
     "text": [
      "{\"stellenangebote\": [{\"beruf\": \"Data Engineer\", \"titel\": \"Data Analyst (m/w/d)\", \"refnr\": \"12288-2893100159-S\", \"arbeitsort\": {\"plz\": \"20355\", \"ort\": \"Hamburg\", \"region\": \"Hamburg\", \"land\": \"Deutschland\", \"koordinaten\": {\"lat\": 53.5557897, \"lon\": 9.9825243}}, \"arbeitgeber\": \"Computer Futures, ein Gesch\\u00e4ftszweig von SThree\", \"aktuelleVeroeffentlichungsdatum\": \"2023-03-03\", \"modifikationsTimestamp\": \"2023-03-03T07:40:32.508\", \"eintrittsdatum\": \"2023-03-04\", \"hashId\": \"UOaKFwCmLpAQ6KuKfEgea1bE2flRNOmVTtevKOIdMLw=\", \"externeUrl\": \"https://www.persy.jobs/persy/l/job-aimix-b\"}, {\"beruf\": \"Data Scientist\", \"titel\": \"Data Analyst*in - befristet f\\u00fcr ein Jahr\", \"refnr\": \"14164-2023r4kqs2qn-000-S\", \"arbeitsort\": {\"plz\": \"20095\", \"ort\": \"Hamburg\", \"region\": \"Hamburg\", \"land\": \"Deutschland\", \"koordinaten\": {\"lat\": 53.55067, \"lon\": 9.9997397}}, \"arbeitgeber\": \"Hamburger Hochbahn AG\", \"aktuelleVeroeffentlichungsdatum\": \"2023-03-02\", \"modifikationsTimestamp\": \"2023-03-02T13:09:15.652\", \"eintrittsdatum\": \"2023-03-02\", \"logoHashId\": \"uok2gTZ-wM48yaMcLAJJkyYP_2dtIdsCeZ2IKo6WF5I=\", \"hashId\": \"ttEk13_VMnx_3N89w9xPMp2hCSzS0MfS02LA4pRyOwY=\"}, {\"beruf\": \"Data Scientist\", \"titel\": \"Data Analyst (w/m/d)\", \"refnr\": \"13635-fe5c2463_JB3619565-S\", \"arbeitsort\": {\"plz\": \"22453\", \"ort\": \"Hamburg\", \"region\": \"Hamburg\", \"land\": \"Deutschland\", \"koordinaten\": {\"lat\": 53.6229385, \"lon\": 9.966115}}, \"arbeitgeber\": \"Kalorimeta\", \"aktuelleVeroeffentlichungsdatum\": \"2023-03-01\", \"modifikationsTimestamp\": \"2023-03-01T17:35:51.19\", \"eintrittsdatum\": \"2023-03-05\", \"hashId\": \"YMnPBhAuY-Lx4vA2wzTh_batyyfGUzI_RTfUnxcMjw0=\", \"externeUrl\": \"https://www.jobexport.de/job/3619565.html?exp=81&cid=fe5c2463-532a-447a-984f-c5f798bf34b8\"}, {\"beruf\": \"Data Scientist\", \"titel\": \"Data Analyst (m/w/d)\", \"refnr\": \"10000-1191926775-S\", \"arbeitsort\": {\"plz\": \"38100\", \"ort\": \"Braunschweig\", \"strasse\": \"An der Martinikirche 4\", \"region\": \"Niedersachsen\", \"land\": \"Deutschland\", \"koordinaten\": {\"lat\": 52.2627458, \"lon\": 10.515739}}, \"arbeitgeber\": \"AMENO GmbH\", \"aktuelleVeroeffentlichungsdatum\": \"2023-02-23\", \"modifikationsTimestamp\": \"2023-02-22T08:22:21.879\", \"eintrittsdatum\": \"2023-03-01\", \"hashId\": \"2pOXMSCqtwPlSR1o6XXv9CehuYDwvTMqVTxTR-cZvsE=\"}, {\"beruf\": \"Data Scientist\", \"titel\": \"Data Analyst (m/w/d)\", \"refnr\": \"12265-294814_JB3597928-S\", \"arbeitsort\": {\"plz\": \"18057\", \"ort\": \"Rostock\", \"region\": \"Mecklenburg-Vorpommern\", \"land\": \"Deutschland\", \"koordinaten\": {\"lat\": 54.0908944, \"lon\": 12.1086076}}, \"arbeitgeber\": \"FERCHAU GmbH Niederlassung Rostock\", \"aktuelleVeroeffentlichungsdatum\": \"2023-02-17\", \"modifikationsTimestamp\": \"2023-02-17T07:36:44.844\", \"eintrittsdatum\": \"2023-02-21\", \"logoHashId\": \"OeZ7tyOJzKTQTTQnwwC13BN2sL60MYOJQw_bNk6mazU=\", \"hashId\": \"1vTHoNPqbj7YObVW2IAt8VM0kOyZyUikgLujMLZ2zPE=\"}, {\"beruf\": \"Digital-Analyst/in\", \"titel\": \"Data Analyst (m/w/d)\", \"refnr\": \"13799-2023-00000000003858-S\", \"arbeitsort\": {\"plz\": \"92637\", \"ort\": \"Weiden in der Oberpfalz\", \"strasse\": \"Dr.-Kilian-Stra\\u00dfe 11\", \"region\": \"Bayern\", \"land\": \"Deutschland\", \"koordinaten\": {\"lat\": 49.7003094, \"lon\": 12.1578784}}, \"arbeitgeber\": \"A.T.U Auto-Teile-Unger Handels GmbH & Co. KG\", \"aktuelleVeroeffentlichungsdatum\": \"2023-01-31\", \"modifikationsTimestamp\": \"2023-02-13T16:33:25.052\", \"eintrittsdatum\": \"2023-02-13\", \"logoHashId\": \"K-3rrK2MdivzmceSLYwoETZcOoq3aTHiIotwdkpzDiw=\", \"hashId\": \"2SgoJ5uBddSL6pJjGO_yKNGxdhVO6uVdxra9SSwDA8k=\"}, {\"beruf\": \"Data Scientist\", \"titel\": \"Data Analyst (m/w/d) Airbus\", \"refnr\": \"12438-10583741-S\", \"arbeitsort\": {\"plz\": \"21129\", \"ort\": \"Hamburg\", \"region\": \"Hamburg\", \"land\": \"Deutschland\", \"koordinaten\": {\"lat\": 53.5212621, \"lon\": 9.8558504}}, \"arbeitgeber\": \"expertum GmbH\", \"aktuelleVeroeffentlichungsdatum\": \"2023-02-28\", \"modifikationsTimestamp\": \"2023-02-28T12:11:29.559\", \"eintrittsdatum\": \"2023-04-01\", \"logoHashId\": \"ZhiACrcFtv9i9DqKEWAXvCpgvzNBX91SjxTFGLHE-M4=\", \"hashId\": \"LMChnO8vTWcqiodFle8LRM_aMgTbnNXEBtYdUJ2dRjk=\"}, {\"beruf\": \"Data Engineer\", \"titel\": \"Data Scientist - Data Analyst (m/w/d)\", \"refnr\": \"10000-1188823795-S\", \"arbeitsort\": {\"plz\": \"34121\", \"ort\": \"Kassel, Hessen\", \"region\": \"Hessen\", \"land\": \"Deutschland\", \"koordinaten\": {\"lat\": 51.3025143, \"lon\": 9.4788422}}, \"aktuelleVeroeffentlichungsdatum\": \"2023-02-24\", \"modifikationsTimestamp\": \"2023-02-23T08:16:26.8\", \"eintrittsdatum\": \"2022-10-06\", \"hashId\": \"nJTzmhnDx8ykiSr7HrLm8fJS_vE9gi1M3nIyATavizw=\"}, {\"beruf\": \"Data Scientist\", \"titel\": \"Data-Analyst (m/w/d)\", \"refnr\": \"10000-1192366823-S\", \"arbeitsort\": {\"plz\": \"91154\", \"ort\": \"Roth, Mittelfranken\", \"strasse\": \"Norisstr. 23\", \"region\": \"Bayern\", \"land\": \"Deutschland\", \"koordinaten\": {\"lat\": 49.2501842, \"lon\": 11.1183486}}, \"arbeitgeber\": \"edison street GmbH\", \"aktuelleVeroeffentlichungsdatum\": \"2022-12-14\", \"modifikationsTimestamp\": \"2023-02-17T09:05:54.763\", \"eintrittsdatum\": \"2023-02-17\", \"logoHashId\": \"kQiP-B-NiUfP_ConMFqL8MK2MNrUEO6ss7G8FtaF0Ik=\", \"hashId\": \"FwOMCpY9Ro9qkZct1TGlZ0ZCHS2B86APCVvDRYGpB-g=\"}, {\"beruf\": \"Data Scientist\", \"titel\": \"Data Analyst (m/w/d)\", \"refnr\": \"13635-8eb16647_JB3579516-S\", \"arbeitsort\": {\"plz\": \"79822\", \"ort\": \"Titisee-Neustadt\", \"region\": \"Baden-W\\u00fcrttemberg\", \"land\": \"Deutschland\", \"koordinaten\": {\"lat\": 47.9357728, \"lon\": 8.1903475}}, \"arbeitgeber\": \"Thermengruppe Josef Wund\", \"aktuelleVeroeffentlichungsdatum\": \"2023-02-06\", \"modifikationsTimestamp\": \"2023-02-06T17:35:00.231\", \"eintrittsdatum\": \"2023-02-10\", \"hashId\": \"KKaCtvxPFzyi8d3qw3uety3T3vlUG8M13ZA9M1tqfIA=\", \"externeUrl\": \"https://www.jobexport.de/job/3579516.html?exp=81&cid=8eb16647-df3f-47d9-a8b0-6b5477588634\"}, {\"beruf\": \"Data Scientist\", \"titel\": \"Data Analyst (m/w/d)\", \"refnr\": \"13635-8a469ead_JB3579513-S\", \"arbeitsort\": {\"plz\": \"74889\", \"ort\": \"Sinsheim, Elsenz\", \"region\": \"Baden-W\\u00fcrttemberg\", \"land\": \"Deutschland\", \"koordinaten\": {\"lat\": 49.2361424, \"lon\": 8.8758219}}, \"arbeitgeber\": \"Thermengruppe Josef Wund\", \"aktuelleVeroeffentlichungsdatum\": \"2023-02-06\", \"modifikationsTimestamp\": \"2023-02-06T17:35:00.084\", \"eintrittsdatum\": \"2023-02-10\", \"hashId\": \"23urpYOgA6UONhclIYBpbIfhFEhnr0g5Qui4isYLvBU=\", \"externeUrl\": \"https://www.jobexport.de/job/3579513.html?exp=81&cid=8a469ead-f66c-4e46-ae08-036303a1e8fd\"}, {\"beruf\": \"Data Scientist\", \"titel\": \"Data Analyst (m/w/d)\", \"refnr\": \"13635-09dea273_JB3579520-S\", \"arbeitsort\": {\"plz\": \"88677\", \"ort\": \"Markdorf, Baden\", \"region\": \"Baden-W\\u00fcrttemberg\", \"land\": \"Deutschland\", \"koordinaten\": {\"lat\": 47.7145586, \"lon\": 9.3866735}}, \"arbeitgeber\": \"Thermengruppe Josef Wund\", \"aktuelleVeroeffentlichungsdatum\": \"2023-02-06\", \"modifikationsTimestamp\": \"2023-02-06T17:35:00.493\", \"eintrittsdatum\": \"2023-02-10\", \"hashId\": \"5eTvjuXYmU7Lbyd0fACSeoaD8X8XBxkwltDjBlojKDk=\", \"externeUrl\": \"https://www.jobexport.de/job/3579520.html?exp=81&cid=09dea273-70be-4c8e-8bc5-3de7f70c9715\"}, {\"beruf\": \"Data Scientist\", \"titel\": \"Data Analyst (m/w/d)\", \"refnr\": \"13635-024223fb_JB3579511-S\", \"arbeitsort\": {\"plz\": \"53879\", \"ort\": \"Euskirchen\", \"region\": \"Nordrhein-Westfalen\", \"land\": \"Deutschland\", \"koordinaten\": {\"lat\": 50.6601528, \"lon\": 6.7893677}}, \"arbeitgeber\": \"Thermengruppe Josef Wund\", \"aktuelleVeroeffentlichungsdatum\": \"2023-02-06\", \"modifikationsTimestamp\": \"2023-02-06T17:34:59.929\", \"eintrittsdatum\": \"2023-02-10\", \"hashId\": \"H9qlDl02YhIMraKrWXWfD2kFrLv_QXhlI5OMbaiJTcs=\", \"externeUrl\": \"https://www.jobexport.de/job/3579511.html?exp=81&cid=024223fb-e4ac-4acc-914c-8292da5c2918\"}, {\"beruf\": \"Data Scientist\", \"titel\": \"Data Analyst (m/w/d)\", \"refnr\": \"10000-1188658078-S\", \"arbeitsort\": {\"plz\": \"91567\", \"ort\": \"Herrieden\", \"strasse\": \"M\\u00fcnchener Str. 20\", \"region\": \"Bayern\", \"land\": \"Deutschland\", \"koordinaten\": {\"lat\": 49.2343185, \"lon\": 10.5008873}}, \"arbeitgeber\": \"Sielaff GmbH & Co KG Automatenbau\", \"aktuelleVeroeffentlichungsdatum\": \"2022-12-21\", \"modifikationsTimestamp\": \"2023-02-01T11:11:49.238\", \"eintrittsdatum\": \"2023-02-01\", \"logoHashId\": \"6VaeiV656fnJOGpudKdO_2zI7BZZvK2YylVIXNBlY9E=\", \"hashId\": \"d5mmsEIe6dR6EciiNuQXzP8Gj-op7mfWPEnJUQUhBlw=\"}, {\"beruf\": \"Data Scientist\", \"titel\": \"Data Analyst\", \"refnr\": \"13087-BB-193869-9326-3630-S\", \"arbeitsort\": {\"plz\": \"20457\", \"ort\": \"Hamburg\", \"region\": \"Hamburg\", \"land\": \"Deutschland\", \"koordinaten\": {\"lat\": 53.5331829, \"lon\": 9.9822974}}, \"arbeitgeber\": \"K\\u00fchne + Nagel (AG & Co.) KG\", \"aktuelleVeroeffentlichungsdatum\": \"2022-12-15\", \"modifikationsTimestamp\": \"2023-02-15T12:17:45.833\", \"eintrittsdatum\": \"2022-12-14\", \"logoHashId\": \"xbyGa32b4EROiEj6RfPYuhsMClzLjQ6nKxIBpV8VLHg=\", \"hashId\": \"LwN3mHHJfV4UcEQf1oBmH66cF0L1j1McVgrL5SZza24=\"}, {\"beruf\": \"Data Engineer\", \"titel\": \"Data Analyst (m/w/d)\", \"refnr\": \"12288-2844758629-S\", \"arbeitsort\": {\"plz\": \"50679\", \"ort\": \"K\\u00f6ln\", \"region\": \"Nordrhein-Westfalen\", \"land\": \"Deutschland\", \"koordinaten\": {\"lat\": 50.9363044, \"lon\": 6.9806432}}, \"arbeitgeber\": \"Allgeier Experts GmbH\", \"aktuelleVeroeffentlichungsdatum\": \"2023-02-01\", \"modifikationsTimestamp\": \"2023-02-27T07:55:02.476\", \"eintrittsdatum\": \"2023-02-28\", \"hashId\": \"nPT3X3dMBR3wbRrHJyRy1YDI-9o27EPV5no12axTOaE=\", \"externeUrl\": \"https://www.persy.jobs/persy/l/job-ad2ye-b\"}, {\"beruf\": \"Data Scientist\", \"titel\": \"Data Analyst / Data Scientist (m/w/d)\", \"refnr\": \"12288-2883740121-S\", \"arbeitsort\": {\"plz\": \"30519\", \"ort\": \"Hannover\", \"region\": \"Niedersachsen\", \"land\": \"Deutschland\", \"koordinaten\": {\"lat\": 52.3376644, \"lon\": 9.7770478}}, \"arbeitgeber\": \"Toto-Lotto Niedersachsen GmbH\", \"aktuelleVeroeffentlichungsdatum\": \"2023-02-27\", \"modifikationsTimestamp\": \"2023-02-27T07:57:05.505\", \"eintrittsdatum\": \"2023-02-28\", \"hashId\": \"MtUWkbMFux5YO5e-52TJoUL79YmbFAzX9jwopqWBUhc=\", \"externeUrl\": \"https://www.persy.jobs/persy/l/job-ahkcy-b\"}, {\"beruf\": \"Data Engineer\", \"titel\": \"Marketing Data Analyst (m/w/d)\", \"refnr\": \"12288-2883699079-S\", \"arbeitsort\": {\"plz\": \"49824\", \"ort\": \"Emlichheim\", \"region\": \"Niedersachsen\", \"land\": \"Deutschland\", \"koordinaten\": {\"lat\": 52.6140539, \"lon\": 6.8515867}}, \"arbeitgeber\": \"Emsland Group\", \"aktuelleVeroeffentlichungsdatum\": \"2023-02-27\", \"modifikationsTimestamp\": \"2023-02-27T07:49:08.701\", \"eintrittsdatum\": \"2023-02-28\", \"hashId\": \"A2Bb2AsQFmOgBHdZpgetPLs_lcC2y-SZk_0T6ALcgAc=\", \"externeUrl\": \"https://www.persy.jobs/persy/l/job-ahk7j-b\"}, {\"beruf\": \"Data Engineer\", \"titel\": \"Cybersecurity Analyst (w/m/d)\", \"refnr\": \"12288-2891062760-S\", \"arbeitsort\": {\"plz\": \"40227\", \"ort\": \"D\\u00fcsseldorf\", \"region\": \"Nordrhein-Westfalen\", \"land\": \"Deutschland\", \"koordinaten\": {\"lat\": 51.2125586, \"lon\": 6.8046755}}, \"arbeitgeber\": \"Computer Futures, ein Gesch\\u00e4ftszweig von SThree\", \"aktuelleVeroeffentlichungsdatum\": \"2023-03-02\", \"modifikationsTimestamp\": \"2023-03-02T07:17:21.868\", \"eintrittsdatum\": \"2023-03-03\", \"hashId\": \"VIwsdvuPh4uRffysx4cSPugqduA4du5H8ue-qrO53OU=\", \"externeUrl\": \"https://www.persy.jobs/persy/l/job-aibdz-b\"}, {\"beruf\": \"Data Scientist\", \"titel\": \"Goldst\\u00fcck gesucht: Data Analyst (m/w/d)\", \"refnr\": \"10000-1192506493-S\", \"arbeitsort\": {\"plz\": \"65205\", \"ort\": \"Wiesbaden\", \"strasse\": \"Otto-von-Guericke-Ring 10\", \"region\": \"Hessen\", \"land\": \"Deutschland\", \"koordinaten\": {\"lat\": 50.0579949, \"lon\": 8.3341617}}, \"arbeitgeber\": \"SOLIT Management GmbH\", \"aktuelleVeroeffentlichungsdatum\": \"2023-03-02\", \"modifikationsTimestamp\": \"2023-03-02T17:28:32.773\", \"eintrittsdatum\": \"2023-03-02\", \"hashId\": \"PwlMtZkhnFCCE4b1MeveNzAKlz1G0dzmhz2z2r6PsvQ=\"}, {\"beruf\": \"Data Engineer\", \"titel\": \"Senior Marketing Data Analyst (m/w/d)\", \"refnr\": \"10000-1193413382-S\", \"arbeitsort\": {\"ort\": \"N\\u00fcrnberg, Mittelfranken\", \"region\": \"Bayern\", \"land\": \"Deutschland\", \"koordinaten\": {\"lat\": 49.4347924, \"lon\": 11.1008991}}, \"arbeitgeber\": \"SimpleXX GmbH\", \"aktuelleVeroeffentlichungsdatum\": \"2023-03-01\", \"modifikationsTimestamp\": \"2023-03-01T11:28:37.609\", \"eintrittsdatum\": \"2023-03-01\", \"logoHashId\": \"IN866_JoVS_LrXbnTze45OR4flM5MU5hSUfYfwFsoZE=\", \"hashId\": \"LFBNYNCCfa4ethcd9izhRpRrrjiI22mSdJsBpbfj6s8=\"}, {\"beruf\": \"Data Engineer\", \"titel\": \"Data Analyst (m/w/d) Data & Process Mining\", \"refnr\": \"10000-1193420850-S\", \"arbeitsort\": {\"plz\": \"81925\", \"ort\": \"M\\u00fcnchen\", \"strasse\": \"Arabellastra\\u00dfe\", \"region\": \"Bayern\", \"land\": \"Deutschland\", \"koordinaten\": {\"lat\": 48.1505003, \"lon\": 11.6210352}}, \"arbeitgeber\": \"BayWa AG\", \"aktuelleVeroeffentlichungsdatum\": \"2023-03-01\", \"modifikationsTimestamp\": \"2023-03-02T16:16:27.854\", \"eintrittsdatum\": \"2023-03-02\", \"logoHashId\": \"asX11wKgEZouB5YNlru7bNwJiFCPxt0_djgBz_CTIqI=\", \"hashId\": \"zcnYyXnxxLANOuKQ1oz51fFm-S_GQ2pUqFMX813JvCo=\"}, {\"beruf\": \"Data Scientist\", \"titel\": \"Data Analyst (gn)\", \"refnr\": \"13635-87c2f5be_JB3602765-S\", \"arbeitsort\": {\"plz\": \"80335\", \"ort\": \"M\\u00fcnchen\", \"region\": \"Bayern\", \"land\": \"Deutschland\", \"koordinaten\": {\"lat\": 48.1449878, \"lon\": 11.5543431}}, \"arbeitgeber\": \"Memodo GmbH\", \"aktuelleVeroeffentlichungsdatum\": \"2023-02-21\", \"modifikationsTimestamp\": \"2023-02-21T14:12:26.334\", \"eintrittsdatum\": \"2023-02-25\", \"hashId\": \"G7SKBbeo5X4lzmswhVpON_7tlS7-qMvOo4BkI9UIauk=\", \"externeUrl\": \"https://www.jobexport.de/job/3602765.html?exp=81&cid=87c2f5be-f9e6-476a-8f8b-3ca51cd7ebc0\"}, {\"beruf\": \"Data Scientist\", \"titel\": \"Digital Service Data Analyst (m/w/d)\", \"refnr\": \"15150-00151440-S\", \"arbeitsort\": {\"ort\": \"Schwalbach am Taunus\", \"region\": \"Hessen\", \"land\": \"Deutschland\", \"koordinaten\": {\"lat\": 50.1499578, \"lon\": 8.5357662}}, \"arbeitgeber\": \"matchING Engineering GmbH\", \"aktuelleVeroeffentlichungsdatum\": \"2023-03-02\", \"modifikationsTimestamp\": \"2023-03-02T07:19:40.584\", \"eintrittsdatum\": \"2023-04-01\", \"logoHashId\": \"DcdgydwA5elbTShGXddfwldPmJcX7phs7j6CGiy-gAI=\", \"hashId\": \"nhNTqdI9k7cCQxbQa2XxrHaf8od4lQIUYCJNwVRBpnI=\"}, {\"beruf\": \"Data Engineer\", \"titel\": \"Data Analyst (w/m/d) Schaden\", \"refnr\": \"12288-2874296883-S\", \"arbeitsort\": {\"plz\": \"30982\", \"ort\": \"Pattensen bei Hannover\", \"region\": \"Niedersachsen\", \"land\": \"Deutschland\", \"koordinaten\": {\"lat\": 52.2348713, \"lon\": 9.7483283}}, \"arbeitgeber\": \"VHV Gruppe Hannover\", \"aktuelleVeroeffentlichungsdatum\": \"2023-02-20\", \"modifikationsTimestamp\": \"2023-02-27T08:13:31.723\", \"eintrittsdatum\": \"2023-02-28\", \"hashId\": \"M4_0-HCfwbkzcwg5j3TbT9Yyv0-uqjqyJYOU_PjJL2M=\", \"externeUrl\": \"https://www.persy.jobs/persy/l/job-agk9m-b\"}], \"maxErgebnisse\": 345, \"page\": 1, \"size\": 25, \"facetten\": {\"befristung\": {\"counts\": {\"1\": 8, \"2\": 204, \"3\": 133}, \"maxCount\": 345}, \"behinderung\": {\"counts\": {\"false\": 344, \"true\": 1}, \"maxCount\": 345}, \"berufsfeld\": {\"counts\": {\"Biologie\": 1, \"B\\u00fcro und Sekretariat\": 6, \"Chemie\": 1, \"Einkauf und Vertrieb\": 3, \"Elektrotechnik\": 10, \"Fahrzeug-, Luft-, Raumfahrt- und Schiffbautechnik\": 4, \"Geologie, Geografie und Meteorologie\": 1, \"Gesellschaftswissenschaften\": 1, \"Handel\": 1, \"IT-Netzwerktechnik, -Administration, -Organisation\": 72, \"IT-Systemanalyse, -Anwendungsberatung und -Vertrieb\": 11, \"Informatik\": 212, \"Kaufleute - Verkehr und Logistik\": 6, \"Lehr- und Forschungst\\u00e4tigkeit an Hochschulen\": 2, \"Maschinenbau- und Betriebstechnik\": 2, \"Mathematik und Statistik\": 14, \"Medien-, Dokumentations- und Informationsdienste\": 1, \"Personalwesen und -dienstleistung\": 1, \"Rechnungswesen, Controlling und Revision\": 9, \"Rechtsberatung, -sprechung und -ordnung\": 1, \"Softwareentwicklung und Programmierung\": 6, \"Technische Mediengestaltung\": 1, \"Technische Produktionsplanung und -steuerung\": 12, \"Unternehmensorganisation und -strategie\": 61, \"Versicherungs- und Finanzdienstleistungen\": 3, \"Weinbau\": 4, \"Werbung und Marketing\": 12}, \"maxCount\": 345}, \"pav\": {\"counts\": {\"false\": 345, \"true\": 51}, \"maxCount\": 396}, \"arbeitsort\": {\"counts\": {\"Aachen\": 1, \"Ahlen, Westfalen\": 1, \"Allendorf (Eder)\": 1, \"Anzing bei M\\u00fcnchen\": 3, \"Augsburg, Bayern\": 1, \"Backnang\": 2, \"Bad Kreuznach\": 1, \"Bad Rodach\": 1, \"Baden-Baden\": 1, \"Baierbrunn, Isartal\": 1, \"Bamberg\": 1, \"Bayreuth\": 2, \"Bergheim bei Neuburg an der Donau\": 1, \"Bergisch Gladbach\": 1, \"Berlin\": 23, \"Bernried am Starnberger See\": 1, \"Bielefeld\": 1, \"Bindlach\": 1, \"Blankenfelde-Mahlow\": 2, \"Bochum\": 4, \"Bonefeld\": 1, \"Bonn\": 2, \"Borken, Westfalen\": 1, \"Bottrop\": 1, \"Braunschweig\": 5, \"Br\\u00fchl, Rheinland\": 1, \"Buxtehude\": 2, \"B\\u00f6blingen\": 3, \"Chemnitz, Sachsen\": 1, \"Darmstadt\": 2, \"Donauw\\u00f6rth\": 1, \"Dorsten\": 1, \"Dortmund\": 2, \"Dresden\": 3, \"Duisburg\": 2, \"D\\u00fcsseldorf\": 15, \"Eltville am Rhein\": 1, \"Emlichheim\": 2, \"Erfurt\": 4, \"Erlangen\": 7, \"Eschborn, Taunus\": 3, \"Essen, Ruhr\": 3, \"Ettlingen\": 1, \"Euskirchen\": 1, \"Forchheim, Oberfranken\": 1, \"Frankfurt am Main\": 28, \"Frechen\": 2, \"Freilassing\": 1, \"Friedrichshafen\": 1, \"Garching bei M\\u00fcnchen\": 1, \"Gelsenkirchen\": 1, \"Germering, Oberbayern\": 1, \"Gie\\u00dfen, Lahn\": 1, \"Grasleben\": 1, \"Greven, Westfalen\": 1, \"G\\u00f6ttingen, Niedersachsen\": 2, \"Halle (Saale)\": 2, \"Halstenbek, Holstein\": 1, \"Hamburg\": 26, \"Hanau\": 1, \"Hannover\": 4, \"Hartmannsdorf bei Chemnitz, Sachsen\": 1, \"Heidelberg, Neckar\": 2, \"Herford\": 1, \"Herrieden\": 1, \"Hohenfelde bei Kiel\": 1, \"Holzkirchen, Oberbayern\": 1, \"Hongkong\": 1, \"Ingolstadt, Donau\": 3, \"Iserlohn\": 2, \"Karlsruhe, Baden\": 4, \"Kassel, Hessen\": 2, \"Kornwestheim\": 2, \"Krakau\": 2, \"K\\u00f6ln\": 16, \"Leinfelden-Echterdingen\": 4, \"Leipzig\": 6, \"Ludwigshafen am Rhein\": 2, \"L\\u00fcdenscheid\": 2, \"Magdeburg\": 3, \"Mannheim\": 6, \"Mettlach\": 2, \"M\\u00fclheim an der Ruhr\": 3, \"M\\u00fcnchen\": 31, \"M\\u00fcnster, Westfalen\": 4, \"Neu-Isenburg\": 2, \"Norderstedt\": 3, \"N\\u00fcrnberg, Mittelfranken\": 7, \"Oldenburg (Oldb)\": 3, \"Osnabr\\u00fcck\": 2, \"Pattensen bei Hannover\": 3, \"Potsdam\": 3, \"Raunheim\": 2, \"Rostock\": 2, \"Schwalbach am Taunus\": 4, \"Sofia\": 3, \"Solingen\": 2, \"Stuttgart\": 19, \"Wiesbaden\": 5, \"Wolfsburg\": 3}, \"maxCount\": 345}, \"veroeffentlichtseit\": {\"counts\": {\"0\": 12, \"1\": 31, \"14\": 133, \"28\": 244, \"7\": 85, \"alle\": 345}, \"maxCount\": 345}, \"arbeitsort_plz\": {\"counts\": {\"01067\": 1, \"01127\": 1, \"01309\": 1, \"04103\": 1, \"04109\": 2, \"04129\": 1, \"04229\": 2, \"06108\": 1, \"06112\": 1, \"07743\": 1, \"07937\": 1, \"09111\": 1, \"09232\": 1, \"10115\": 6, \"10117\": 2, \"10178\": 3, \"10179\": 1, \"10245\": 3, \"10623\": 1, \"10709\": 1, \"10785\": 1, \"10789\": 1, \"10963\": 1, \"13509\": 1, \"13627\": 1, \"14197\": 1, \"14473\": 2, \"14482\": 1, \"15827\": 1, \"15831\": 1, \"18055\": 1, \"18057\": 1, \"20095\": 4, \"20097\": 1, \"20355\": 2, \"20359\": 2, \"20457\": 2, \"21107\": 1, \"21129\": 6, \"21614\": 2, \"22083\": 1, \"22085\": 1, \"22145\": 1, \"22179\": 1, \"22335\": 2, \"22453\": 1, \"22761\": 1, \"22844\": 1, \"22848\": 2, \"24145\": 1, \"24257\": 1, \"25451\": 1, \"25469\": 1, \"26125\": 1, \"26127\": 1, \"26129\": 1, \"26180\": 1, \"27809\": 1, \"30159\": 2, \"30519\": 1, \"30539\": 1, \"30982\": 3, \"32052\": 1, \"32584\": 1, \"34117\": 1, \"34121\": 1, \"35037\": 1, \"35108\": 1, \"37075\": 1, \"37079\": 1, \"38100\": 3, \"38126\": 1, \"38368\": 1, \"38440\": 3, \"39104\": 1, \"39128\": 1, \"40211\": 2, \"40212\": 3, \"40213\": 3, \"40215\": 1, \"40221\": 1, \"40227\": 1, \"40468\": 1, \"40476\": 1, \"41363\": 1, \"42657\": 1, \"42699\": 1, \"44139\": 1, \"44369\": 1, \"44536\": 1, \"44787\": 2, \"44799\": 1, \"45127\": 1, \"45141\": 1, \"45468\": 2, \"45470\": 1, \"46236\": 1, \"46286\": 1, \"46325\": 1, \"47053\": 1, \"47059\": 1, \"47805\": 1, \"48143\": 1, \"48155\": 1, \"48268\": 1, \"49076\": 1, \"49084\": 1, \"49824\": 2, \"50226\": 2, \"50321\": 1, \"50672\": 2, \"50676\": 2, \"50677\": 1, \"50679\": 1, \"50823\": 1, \"50933\": 2, \"50968\": 1, \"50996\": 1, \"51063\": 1, \"51103\": 1, \"51147\": 1, \"51149\": 1, \"51429\": 1, \"53113\": 1, \"53879\": 1, \"55130\": 1, \"55543\": 1, \"56579\": 1, \"58513\": 2, \"58638\": 2, \"59227\": 1, \"59302\": 1, \"60306\": 2, \"60308\": 2, \"60311\": 6, \"60313\": 3, \"60323\": 1, \"60327\": 1, \"60329\": 2, \"60486\": 1, \"60487\": 1, \"60489\": 5, \"60528\": 1, \"63263\": 2, \"64295\": 1, \"65185\": 1, \"65187\": 1, \"65205\": 1, \"65343\": 1, \"65479\": 2, \"65529\": 1, \"65760\": 3, \"65824\": 2, \"65929\": 1, \"66111\": 1, \"66693\": 2, \"67059\": 1, \"67063\": 1, \"68159\": 1, \"68161\": 1, \"68165\": 3, \"68519\": 1, \"69115\": 1, \"69120\": 1, \"70173\": 4, \"70174\": 2, \"70178\": 2, \"70182\": 1, \"70188\": 1, \"70191\": 1, \"70469\": 3, \"70563\": 1, \"70567\": 2, \"70597\": 1, \"70771\": 4, \"70806\": 2, \"71032\": 1, \"71034\": 2, \"71069\": 1, \"71364\": 1, \"71522\": 2, \"71636\": 1, \"72074\": 1, \"72127\": 1, \"72762\": 1, \"73614\": 1, \"74385\": 1, \"74889\": 1, \"76131\": 1, \"76137\": 1, \"80331\": 4, \"80335\": 2, \"80636\": 3, \"80807\": 3, \"80809\": 5, \"81739\": 5, \"85646\": 3, \"90475\": 3, \"91052\": 5, \"99084\": 3}, \"maxCount\": 345}, \"arbeitgeber\": {\"counts\": {\"A.T.U Auto-Teile-Unger Handels GmbH & Co. KG\": 1, \"ABALON Group\": 2, \"ACB\": 1, \"ADVA Optical Networking SE\": 1, \"AGILIOS Personal GmbH\": 1, \"AIDA Cruises\": 1, \"AKAD Bildungsgesellschaft mbH\": 1, \"AKKU SYS Akkumulator- & Batterietechnik Nord GmbH\": 1, \"ALDI S\\u00dcD Dienstleistungs-SE & Co. oHG\": 2, \"AMENO GmbH\": 1, \"ARRK Engineering GmbH\": 3, \"Abakus Engineers GmbH\": 1, \"Adecco Personaldienstleistungen GmbH\": 1, \"Airbus\": 1, \"Airbus Defence and Space GmbH\": 1, \"Alfred K\\u00e4rcher SE & Co. KG\": 1, \"Allgeier Experts GmbH\": 1, \"Allianz Deutschland; Allianz Lebensversicherungs-AG\": 1, \"Alnatura Produktions- und Handels GmbH\": 1, \"Anonymer Arbeitgeber\": 1, \"Argo Aviation GmbH\": 1, \"Arvato Financial Solutions\": 3, \"AssetMetrix\": 1, \"Aviation Industry Personnel Services GmbH\": 1, \"BARC GmbH\": 1, \"BASF Jobmarkt GmbH\": 1, \"BAUEN+LEBEN Service GmbH & Co. KG\": 1, \"BE-terna GmbH\": 1, \"BLUME2000 SE\": 2, \"BMW AG\": 5, \"BNP Paribas\": 1, \"BORA L\\u00fcftungstechnik GmbH\": 1, \"Baden - W\\u00fcrttembergische Versorgungsanstalt f\\u00fcr \\u00c4rzte, Zahn\\u00e4rzte und Tier\\u00e4rzte\": 1, \"Bauerfeind AG\": 1, \"BayWa AG\": 1, \"Bayerische Oberlandbahn GmbH\": 2, \"Berliner Wasserbetriebe\": 1, \"BridgingIT GmbH\": 2, \"Brunel\": 1, \"Brunel GmbH NL Duisburg\": 1, \"B\\u00dcFA GmbH & Co. KG\": 1, \"CCP Software GmbH\": 1, \"CHECK24\": 3, \"CHECK24 Vergleichsportal Reise GmbH\": 1, \"Capgemini Engineering\": 1, \"CleverReach GmbH & Co. KG\": 1, \"Commerzbank AG\": 1, \"CompuSafe Data Systems AG\": 2, \"Computer Futures\": 2, \"Computer Futures, ein Gesch\\u00e4ftszweig von SThree\": 2, \"Confidential Trade Organization GmbH\": 1, \"Connox\": 1, \"Continental\": 1, \"Cornelsen Verlag GmbH\": 1, \"Crisis24 GmbH\": 1, \"DEKRA Arbeit GmbH\": 3, \"DG timework GmbH\": 1, \"DR.SCHNELL GmbH & Co. KGaA\": 2, \"DWS Beteiligungs GmbH\": 1, \"DZ-4 GmbH\": 1, \"Da Vinci Engineering GmbH\": 1, \"Dachser SE\": 1, \"DataLab. GmbH\": 2, \"Deloitte GmbH\": 2, \"Deutsche Bahn AG\": 9, \"Deutsche Glasfaser Unternehmensgruppe\": 3, \"Deutsche Lufthansa AG\": 13, \"Deutsche Pfandbriefbank AG\": 1, \"Deutsche Rentenversicherung Bund\": 1, \"Diamant Fahrradwerke GmbH\": 1, \"Digital Motion GmbH\": 1, \"ETO Magnetic GmbH\": 1, \"Emsland Group\": 2, \"FERCHAU GmbH Niederlassung Oldenburg\": 2, \"G DATA CyberDefense\": 2, \"Getr\\u00e4nke Hoffmann GmbH\": 2, \"Kelly Services GmbH\": 2, \"LOGISTIC PEOPLE (Deutschland) GmbH\": 2, \"Lekkerland SE\": 2, \"Lichtblick SE\": 2, \"MEDICE Arzneimittel P\\u00fctter GmbH & Co. KG\": 2, \"O.trend GmbH\": 2, \"Potsdam-Institut f\\u00fcr Klimafolgenforschung e.V\": 2, \"REWE Group\": 2, \"Robert Bosch GmbH C/OSE\": 6, \"Schenker Deutschland AG\": 2, \"Siemens AG\": 15, \"SimpleXX GmbH\": 2, \"Stefan Ebinger D-I-S ecommerce engineering\": 2, \"Thermengruppe Josef Wund\": 4, \"Thermo Fisher Scientific GmbH\": 3, \"VHV Gruppe Hannover\": 3, \"Villeroy & Boch AG Hauptverwaltung\": 2, \"WIRmachenDRUCK GmbH\": 2, \"atene KOM GmbH\": 2, \"engineering people GmbH\": 7, \"expertum GmbH\": 4, \"matchING Engineering GmbH\": 2, \"persona service AG & Co.KG\": 2, \"vitagroup AG\": 2}, \"maxCount\": 345}, \"beruf\": {\"counts\": {\"Account-Manager/in\": 1, \"Aktuar/in\": 1, \"Anwendungsprogrammierer/in\": 1, \"Anwendungssystemberater/in\": 1, \"Assistent/in - Controlling\": 1, \"Assistent/in - Informatik (allgemeine Informatik)\": 1, \"Betriebsinformatiker/in\": 2, \"Betriebswirt/in (Fachschule) - Absatz/Marketing\": 1, \"Betriebswirt/in (Fachschule) - Finanzen und Investment\": 1, \"Betriebswirt/in (Fachschule/Ausbildung) - allg. BWL\": 3, \"Betriebswirt/in (Hochschule)\": 19, \"Betriebswirt/in (Hochschule) - Handel\": 1, \"Betriebswirt/in (Hochschule) - Logistik\": 1, \"Betriebswirt/in (Hochschule) - Marketing\": 1, \"Betriebswirt/in (Hochschule) - Personalmanagement\": 1, \"Betriebswirt/in (Hochschule) - Rechnungswesen u. Controlling\": 1, \"Bioinformatiker/in\": 1, \"Biowissenschaftler/in\": 1, \"Business-Analyst/in\": 36, \"Business-Intelligence-Consultant\": 7, \"B\\u00fcroassistent/in\": 1, \"B\\u00fcrogehilf(e/in)\": 1, \"B\\u00fcrokaufmann/-frau\": 2, \"CRM-Consultant\": 1, \"Controller/in\": 7, \"Cyber-Security-Consultant\": 1, \"Data Engineer\": 49, \"Data Scientist\": 57, \"Data-Consultant\": 1, \"Data-Warehouse-Analyst/in\": 49, \"Datenbankadministrator/in\": 5, \"Datenbankentwickler/in\": 12, \"Datenerfasser/in\": 3, \"Designer/in (Ausbildung) - Grafik\": 1, \"Digital-Analyst/in\": 11, \"Dokumentar/in\": 1, \"EDV-Fachkraft\": 3, \"ERP-Anwendungsentwickler/in\": 1, \"ERP-Systembetreuer/in\": 1, \"Entwickler/in - Datenvisualisierung\": 1, \"Fachinformatiker/in - Anwendungsentwicklung\": 2, \"Fachinformatiker/in - Daten- und Prozessanalyse\": 8, \"Fachinformatiker/in - Digitale Vernetzung\": 1, \"Fachinformatiker/in - Systemintegration\": 1, \"Fachkaufmann/-frau - Marketing\": 2, \"Fachwirt/in - Controlling\": 1, \"Geldw\\u00e4schebeauftragte/r\": 1, \"Geoinformatiker/in\": 1, \"Helfer/in - B\\u00fcro, Verwaltung\": 1, \"IT-Berater/in\": 2, \"IT-Fachwirt/in\": 1, \"IT-Kundenbetreuer/in\": 1, \"IT-Manager/in\": 1, \"IT-Organisator/in\": 13, \"IT-Projektkoordinator/in\": 1, \"IT-Sicherheitskoordinator/in\": 3, \"IT-System-Elektroniker/in\": 1, \"IT-System-Kaufmann/-frau\": 1, \"IT-Systemadministrator/in\": 2, \"Industriekaufmann/-frau\": 1, \"Informatiker/in (Hochschule)\": 48, \"Informatiker/in (Weiterbildung)\": 1, \"Informatikkaufmann/-frau\": 3, \"Informationsmanager/in\": 9, \"Ingenieur/in - Elektrotechnik\": 5, \"Ingenieur/in - Fahrzeugtechnik\": 1, \"Ingenieur/in - Informations-, Kommunikationstechnik\": 4, \"Ingenieur/in - Luft- und Raumfahrttechnik\": 3, \"Ingenieur/in - Maschinenbau\": 2, \"Ingenieur/in - technische Informatik\": 1, \"Ingenieurinformatiker/in\": 2, \"KI-Manager/in\": 1, \"Kaufmann/-frau - Digitalisierungsmanagement\": 1, \"Kaufm\\u00e4nnische Fachkraft\": 1, \"Leiter/in - Process Engineering\": 1, \"Leiter/in - Vertrieb\": 1, \"Marketingfachkraft/-assistent/in\": 2, \"Mathematiker/in\": 5, \"Netzwerkadministrator/in\": 1, \"Onlinemarketing-Manager/in\": 3, \"Personalreferent/in\": 1, \"Produktmanager/in\": 3, \"Projektleiter/in\": 1, \"Qualit\\u00e4tsmanager/in\": 1, \"Rating-Analyst/in\": 1, \"Risk-Manager/in\": 1, \"Sales-Manager/in\": 1, \"Software-Architect\": 1, \"Softwareentwickler/in\": 1, \"Sozialwissenschaftler/in\": 1, \"Statistiker/in\": 4, \"Supply-Chain-Manager/in\": 5, \"Systeminformatiker/in\": 1, \"Winzer/in\": 4, \"Wirtschaftsinformatiker/in (Fachschule)\": 8, \"Wirtschaftsinformatiker/in (Hochschule)\": 50, \"Wirtschaftsinformatiker/in - IT-Systeme\": 4, \"Wirtschaftsingenieur/in\": 10, \"Wirtschaftsmathematiker/in\": 6, \"Wissenschaftliche/r Mitarbeiter/in (Hochschule)\": 2}, \"maxCount\": 345}, \"berufserfahrung\": {\"counts\": {\"1\": 15, \"2\": 56}, \"maxCount\": 345}, \"branche\": {\"counts\": {\"1\": 17, \"11\": 45, \"12\": 1, \"13\": 31, \"14\": 15, \"15\": 4, \"16\": 6, \"17\": 1, \"18\": 2, \"2\": 8, \"21\": 27, \"22\": 8, \"23\": 31, \"24\": 4, \"25\": 3, \"26\": 2, \"27\": 3, \"28\": 46, \"3\": 20, \"4\": 3, \"5\": 20, \"6\": 16, \"7\": 6, \"8\": 3, \"9\": 19}, \"maxCount\": 345}, \"arbeitszeit\": {\"counts\": {\"ho\": 10, \"mj\": 2, \"tz\": 14, \"vz\": 288}, \"maxCount\": 345}, \"eintrittsdatum\": {\"counts\": {\"10_01_01-now\": 301, \"23_03_01-23_04_01\": 105, \"23_04_01-23_05_01\": 20, \"23_05_01-23_06_01\": 4, \"23_06_01-23_07_01\": 2}, \"maxCount\": 345}, \"zeitarbeit\": {\"counts\": {\"false\": 291, \"true\": 54}, \"maxCount\": 345}, \"corona\": {\"counts\": {\"false\": 345}, \"maxCount\": 345}, \"fuehrungsverantwortung\": {\"counts\": {\"1\": 77, \"3\": 1}, \"maxCount\": 345}}}\n"
     ]
    }
   ],
   "source": [
    "base_url = \"https://rest.arbeitsagentur.de/\"\n",
    "jobboerse = \"jobboerse/jobsuche-service/pc/v4/jobs?angebotsart=1&was=\"\n",
    "page_nav = \"&page=1&size=25&pav=false\"\n",
    "\n",
    "fertigkeiten_count = 0\n",
    "joblistings = []\n",
    "listings_keys = []\n",
    "for position in positions:\n",
    "    time.sleep(1)\n",
    "    joblist_url = f'{base_url}{jobboerse}{position}{page_nav}'\n",
    "    try:\n",
    "        response = requests.get(joblist_url)\n",
    "    except KeyError:\n",
    "        pass\n",
    "    json_response = json.loads(response.text)\n",
    "\n",
    "    i = 0\n",
    "    \n",
    "    for listing in json_response['stellenangebote']:\n",
    "        time.sleep(1)\n",
    "        joblistings.append(listing)\n",
    "        refnr = json_response['stellenangebote'][i]['refnr']\n",
    "\n",
    "        code_bytes = bytes(refnr, 'utf-8')\n",
    "        encoded_code = b64encode(code_bytes)\n",
    "        job_id = encoded_code.decode()\n",
    "\n",
    "        job_url = f\"{base_url}jobboerse/jobsuche-service/pc/v2/jobdetails/{job_id}\"\n",
    "        job_response = requests.get(job_url)\n",
    "        job_json_response = json.loads(job_response.text)\n",
    "        job_keys = list(job_json_response.keys())\n",
    "        \n",
    "        for k in job_keys:\n",
    "            listings_keys.append(k)\n",
    "        \n",
    "        # if 'externeUrl' in job_keys:\n",
    "        #     pass\n",
    "        # if 'fertigkeiten' in job_keys:\n",
    "        #     # print(refnr, '\\n')\n",
    "        #     # print(job_keys, '\\n')\n",
    "        #     # print(job_json_response['fertigkeiten'], '\\n')\n",
    "        #     fertigkeiten_count += 1\n",
    "        listing.update({'job_id':job_id})\n",
    "        joblistings.append(listing)\n",
    "        i += 1"
   ]
  },
  {
   "cell_type": "code",
   "execution_count": 4,
   "metadata": {},
   "outputs": [],
   "source": [
    "df_joblistings = pd.DataFrame(joblistings)\n",
    "print(df_joblistings)\n",
    "print(fertigkeiten_count)"
   ]
  },
  {
   "attachments": {},
   "cell_type": "markdown",
   "metadata": {},
   "source": [
    "## Part II\n",
    "\n",
    "Saving Data to a Database"
   ]
  },
  {
   "cell_type": "code",
   "execution_count": null,
   "metadata": {},
   "outputs": [],
   "source": [
    "# connection = create_engine('mysql+pymysql://root:@localhost/businessintelligence')\n",
    "# df_job.to_sql('job', con=connection, index=False, if_exists='append')"
   ]
  }
 ],
 "metadata": {
  "kernelspec": {
   "display_name": "process_review",
   "language": "python",
   "name": "python3"
  },
  "language_info": {
   "codemirror_mode": {
    "name": "ipython",
    "version": 3
   },
   "file_extension": ".py",
   "mimetype": "text/x-python",
   "name": "python",
   "nbconvert_exporter": "python",
   "pygments_lexer": "ipython3",
   "version": "3.9.16"
  },
  "orig_nbformat": 4,
  "vscode": {
   "interpreter": {
    "hash": "2424bdc8459e15fb9e7ab4e25b4f56d86ba224a1120c352f096c5f08247ff3b2"
   }
  }
 },
 "nbformat": 4,
 "nbformat_minor": 2
}
