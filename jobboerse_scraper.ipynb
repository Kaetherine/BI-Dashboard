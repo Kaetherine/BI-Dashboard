{
 "cells": [
  {
   "attachments": {},
   "cell_type": "markdown",
   "metadata": {},
   "source": [
    "# Getting data from Jobboerse of Agentur fuer Arbeit"
   ]
  },
  {
   "cell_type": "code",
   "execution_count": null,
   "metadata": {},
   "outputs": [],
   "source": [
    "from datetime import datetime\n",
    "import json\n",
    "import pandas as pd\n",
    "import requests\n",
    "from sqlalchemy import create_engine\n",
    "from base64 import b64encode"
   ]
  },
  {
   "cell_type": "code",
   "execution_count": null,
   "metadata": {},
   "outputs": [],
   "source": [
    "\n",
    "def get_page(url, page = False, size = 100):\n",
    "    if page:\n",
    "        url = f'{url}&page={page}&size={size}&pav=false'\n",
    "    try:\n",
    "        response = requests.get(url)\n",
    "    except Exception as e:\n",
    "        raise(e)\n",
    "    json_response = json.loads(response.text)\n",
    "    \n",
    "    if page:\n",
    "        try:\n",
    "            max_ergebnisse = json_response['maxErgebnisse']\n",
    "            stellenangebote = json_response['stellenangebote']\n",
    "        except Exception as e:\n",
    "            raise(e)\n",
    "        return stellenangebote, max_ergebnisse, size\n",
    "    else:\n",
    "        job_keys = list(json_response.keys())\n",
    "        return json_response, job_keys"
   ]
  },
  {
   "cell_type": "code",
   "execution_count": null,
   "metadata": {},
   "outputs": [],
   "source": [
    "positions = [\n",
    "    # 'SAP-Entwickler/SAP-Berater',\n",
    "    # 'IT-Projektmanager',\n",
    "    # 'Softwareentwickler',\n",
    "    # 'Business Intelligence Analyst',\n",
    "    # 'IT-Controller',\n",
    "    # 'IT-Berater',\n",
    "    # 'Produktmanager',\n",
    "    # 'App-Entwickler',\n",
    "    # 'Anwendungsentwickler',\n",
    "    # 'Datenbankspezialist',\n",
    "    # 'ERP Manager',\n",
    "    'Data Analyst',\n",
    "    # 'Data Scientist',\n",
    "    # 'Data Engineer',\n",
    "    # 'Projektmanager',\n",
    "    ]"
   ]
  },
  {
   "cell_type": "code",
   "execution_count": null,
   "metadata": {},
   "outputs": [],
   "source": [
    "base_url = \"https://rest.arbeitsagentur.de/\"\n",
    "extended_url = \"jobboerse/jobsuche-service/pc/v4/jobs?angebotsart=1&was=\"\n",
    "joblist = []\n",
    "for position in positions:\n",
    "    joblist_url = f'{base_url}{extended_url}{position}'\n",
    "    page = 1\n",
    "    page_bool = True\n",
    "    while page_bool == True:\n",
    "        stellenangebote, max_ergebnisse, size = get_page(joblist_url, page)\n",
    "        if page == 1 and page_bool == True:\n",
    "            page = (max_ergebnisse // size)+1\n",
    "        else:\n",
    "            if page == 2:\n",
    "                page_bool = False\n",
    "                break\n",
    "            page -= 1\n",
    "\n",
    "        i = 0\n",
    "        for listing in stellenangebote:\n",
    "            refnr = listing['refnr']\n",
    "\n",
    "            # encoding refnr to get the encoded job_id\n",
    "            code_bytes = bytes(refnr, 'utf-8')\n",
    "            encoded_code = b64encode(code_bytes)\n",
    "            job_id = encoded_code.decode()\n",
    "            joblist.append({\n",
    "                            'refnr' : listing['refnr'],\n",
    "                            'job_id': job_id\n",
    "                            })"
   ]
  },
  {
   "cell_type": "code",
   "execution_count": null,
   "metadata": {},
   "outputs": [],
   "source": [
    "df_joblist = pd.DataFrame(joblist).drop_duplicates()\n",
    "for job_id in df_joblist['job_id']:\n",
    "    extended_url = 'jobboerse/jobsuche-service/pc/v2/jobdetails/'\n",
    "    job_url = f'{base_url}{extended_url}{job_id}'\n",
    "    job_response, job_keys = get_page(job_url)\n",
    "\n",
    "    if 'externeUrl' in job_keys:\n",
    "        pass\n",
    "    if 'fertigkeiten' in job_keys:\n",
    "        print(refnr, '\\n')\n",
    "        print(job_response['fertigkeiten'], '\\n')"
   ]
  },
  {
   "cell_type": "code",
   "execution_count": null,
   "metadata": {},
   "outputs": [],
   "source": [
    "# connection = create_engine('mysql+pymysql://root:@localhost/businessintelligence')\n",
    "# df_job.to_sql('job', con=connection, index=False, if_exists='append')"
   ]
  }
 ],
 "metadata": {
  "kernelspec": {
   "display_name": "process_review",
   "language": "python",
   "name": "python3"
  },
  "language_info": {
   "codemirror_mode": {
    "name": "ipython",
    "version": 3
   },
   "file_extension": ".py",
   "mimetype": "text/x-python",
   "name": "python",
   "nbconvert_exporter": "python",
   "pygments_lexer": "ipython3",
   "version": "3.9.16"
  },
  "orig_nbformat": 4,
  "vscode": {
   "interpreter": {
    "hash": "2424bdc8459e15fb9e7ab4e25b4f56d86ba224a1120c352f096c5f08247ff3b2"
   }
  }
 },
 "nbformat": 4,
 "nbformat_minor": 2
}
