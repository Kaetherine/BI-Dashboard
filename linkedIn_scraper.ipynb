{
 "cells": [
  {
   "attachments": {},
   "cell_type": "markdown",
   "metadata": {},
   "source": [
    "# LinkedIn Webscraper"
   ]
  },
  {
   "attachments": {},
   "cell_type": "markdown",
   "metadata": {},
   "source": [
    "## Part I\n",
    "Getting Data from LinkedIn"
   ]
  },
  {
   "cell_type": "code",
   "execution_count": 1,
   "metadata": {},
   "outputs": [],
   "source": [
    "from bs4 import BeautifulSoup\n",
    "from datetime import datetime \n",
    "import pandas\n",
    "import requests\n",
    "from sqlalchemy import create_engine"
   ]
  },
  {
   "cell_type": "code",
   "execution_count": null,
   "metadata": {},
   "outputs": [],
   "source": [
    "positions = [\n",
    "    'SAP-Entwickler/SAP-Berater',\n",
    "    'IT-Projektmanager',\n",
    "    'Softwareentwickler',\n",
    "    'Business Intelligence Analyst',\n",
    "    'IT-Controller',\n",
    "    'IT-Berater',\n",
    "    'Produktmanager',\n",
    "    'App-Entwickler',\n",
    "    'Anwendungsentwickler',\n",
    "    'Datenbankspezialist',\n",
    "    'ERP Manager'\n",
    "]\n",
    "\n"
   ]
  },
  {
   "cell_type": "code",
   "execution_count": 2,
   "metadata": {},
   "outputs": [
    {
     "ename": "NameError",
     "evalue": "name 'positions' is not defined",
     "output_type": "error",
     "traceback": [
      "\u001b[1;31m---------------------------------------------------------------------------\u001b[0m",
      "\u001b[1;31mNameError\u001b[0m                                 Traceback (most recent call last)",
      "Cell \u001b[1;32mIn[2], line 3\u001b[0m\n\u001b[0;32m      1\u001b[0m joblistings \u001b[39m=\u001b[39m []\n\u001b[1;32m----> 3\u001b[0m \u001b[39mfor\u001b[39;00m position \u001b[39min\u001b[39;00m positions:\n\u001b[0;32m      4\u001b[0m     url \u001b[39m=\u001b[39m \u001b[39mf\u001b[39m\u001b[39m'\u001b[39m\u001b[39mhttps://de.linkedin.com/jobs/\u001b[39m\u001b[39m{\u001b[39;00mposition\u001b[39m}\u001b[39;00m\u001b[39m-stellen?position=1&pageNum=0\u001b[39m\u001b[39m'\u001b[39m\n\u001b[0;32m      5\u001b[0m     page \u001b[39m=\u001b[39m requests\u001b[39m.\u001b[39mget(url)\n",
      "\u001b[1;31mNameError\u001b[0m: name 'positions' is not defined"
     ]
    }
   ],
   "source": [
    "joblistings = []\n",
    "\n",
    "for position in positions:\n",
    "    url = f'https://de.linkedin.com/jobs/{position}-stellen?position=1&pageNum=0'\n",
    "    page = requests.get(url)\n",
    "    soup = BeautifulSoup(page.content, 'html.parser')\n",
    "    posts = soup.find_all('div', class_ = 'base-card')\n",
    "    for post in posts:\n",
    "        title = post.find('h3', class_ = 'base-search-card__title').text.strip()\n",
    "        company = post.find('h4', class_ = 'base-search-card__subtitle').text.strip()\n",
    "        try:\n",
    "            location = post.find('span', class_ = 'job-search-card__location').text.strip()\n",
    "        except:\n",
    "            location = 'unknown'\n",
    "        link = post.find('a', class_ = 'base-card__full-link').get('href')\n",
    "        job = {\n",
    "            'title': title,\n",
    "            'company': company,\n",
    "            'location': location,\n",
    "            'link': link,\n",
    "            'Date': datetime.now().date(),\n",
    "            'Timestamp': datetime.now().time()\n",
    "        }\n",
    "        joblistings.append(job)\n",
    "\n",
    "df_job = pandas.DataFrame(joblistings)\n",
    "df_job"
   ]
  },
  {
   "attachments": {},
   "cell_type": "markdown",
   "metadata": {},
   "source": [
    "## Part II\n",
    "\n",
    "Saving Data to a Database"
   ]
  },
  {
   "cell_type": "code",
   "execution_count": 6,
   "metadata": {},
   "outputs": [],
   "source": [
    "# connection = create_engine('mysql+pymysql://root:@localhost/businessintelligence')\n",
    "# df_job.to_sql('job', con=connection, index=False, if_exists='append')"
   ]
  }
 ],
 "metadata": {
  "kernelspec": {
   "display_name": "process_review",
   "language": "python",
   "name": "python3"
  },
  "language_info": {
   "codemirror_mode": {
    "name": "ipython",
    "version": 3
   },
   "file_extension": ".py",
   "mimetype": "text/x-python",
   "name": "python",
   "nbconvert_exporter": "python",
   "pygments_lexer": "ipython3",
   "version": "3.9.16"
  },
  "orig_nbformat": 4,
  "vscode": {
   "interpreter": {
    "hash": "2424bdc8459e15fb9e7ab4e25b4f56d86ba224a1120c352f096c5f08247ff3b2"
   }
  }
 },
 "nbformat": 4,
 "nbformat_minor": 2
}
