{
 "cells": [
  {
   "cell_type": "code",
   "execution_count": null,
   "metadata": {},
   "outputs": [],
   "source": [
    "from linkedin_scraper import df_joblistings"
   ]
  }
 ],
 "metadata": {
  "kernelspec": {
   "display_name": "process_review",
   "language": "python",
   "name": "python3"
  },
  "language_info": {
   "name": "python",
   "version": "3.9.16"
  },
  "orig_nbformat": 4,
  "vscode": {
   "interpreter": {
    "hash": "2424bdc8459e15fb9e7ab4e25b4f56d86ba224a1120c352f096c5f08247ff3b2"
   }
  }
 },
 "nbformat": 4,
 "nbformat_minor": 2
}
